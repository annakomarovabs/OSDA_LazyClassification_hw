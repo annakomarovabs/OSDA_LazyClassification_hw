{
 "cells": [
  {
   "cell_type": "code",
   "execution_count": 223,
   "metadata": {},
   "outputs": [],
   "source": [
    "from tqdm import tqdm\n",
    "import numpy as np\n",
    "import pandas as pd\n",
    "from sklearn.metrics import accuracy_score\n",
    "from sklearn.metrics import precision_score\n",
    "from sklearn.metrics import recall_score\n",
    "from sklearn.metrics import confusion_matrix\n",
    "import matplotlib.pyplot as plt\n",
    "import warnings\n",
    "warnings.filterwarnings(\"ignore\")"
   ]
  },
  {
   "cell_type": "markdown",
   "metadata": {},
   "source": [
    "### Import data"
   ]
  },
  {
   "cell_type": "code",
   "execution_count": 148,
   "metadata": {},
   "outputs": [],
   "source": [
    "data = pd.read_csv('diabetes_data_upload.csv', header=0)"
   ]
  },
  {
   "cell_type": "markdown",
   "metadata": {},
   "source": [
    "### Data pre-processing"
   ]
  },
  {
   "cell_type": "code",
   "execution_count": 149,
   "metadata": {},
   "outputs": [],
   "source": [
    "for column in list(data.columns.values)[2:-1]:\n",
    "    data[column] = data[column].map({'Yes': 1, 'No': 0})\n",
    "    \n",
    "data['Gender'] = data['Gender'].map({'Female': 1, 'Male': 0})\n",
    "data['class'] = data['class'].map({'Positive': 1, 'Negative': 0})"
   ]
  },
  {
   "cell_type": "code",
   "execution_count": 166,
   "metadata": {},
   "outputs": [
    {
     "data": {
      "text/html": [
       "<div>\n",
       "<style scoped>\n",
       "    .dataframe tbody tr th:only-of-type {\n",
       "        vertical-align: middle;\n",
       "    }\n",
       "\n",
       "    .dataframe tbody tr th {\n",
       "        vertical-align: top;\n",
       "    }\n",
       "\n",
       "    .dataframe thead th {\n",
       "        text-align: right;\n",
       "    }\n",
       "</style>\n",
       "<table border=\"1\" class=\"dataframe\">\n",
       "  <thead>\n",
       "    <tr style=\"text-align: right;\">\n",
       "      <th></th>\n",
       "      <th>Age</th>\n",
       "      <th>Gender</th>\n",
       "      <th>Polyuria</th>\n",
       "      <th>Polydipsia</th>\n",
       "      <th>sudden weight loss</th>\n",
       "      <th>weakness</th>\n",
       "      <th>Polyphagia</th>\n",
       "      <th>Genital thrush</th>\n",
       "      <th>visual blurring</th>\n",
       "      <th>Itching</th>\n",
       "      <th>Irritability</th>\n",
       "      <th>delayed healing</th>\n",
       "      <th>partial paresis</th>\n",
       "      <th>muscle stiffness</th>\n",
       "      <th>Alopecia</th>\n",
       "      <th>Obesity</th>\n",
       "      <th>class</th>\n",
       "      <th>age</th>\n",
       "    </tr>\n",
       "  </thead>\n",
       "  <tbody>\n",
       "    <tr>\n",
       "      <th>0</th>\n",
       "      <td>40</td>\n",
       "      <td>0</td>\n",
       "      <td>0</td>\n",
       "      <td>1</td>\n",
       "      <td>0</td>\n",
       "      <td>1</td>\n",
       "      <td>0</td>\n",
       "      <td>0</td>\n",
       "      <td>0</td>\n",
       "      <td>1</td>\n",
       "      <td>0</td>\n",
       "      <td>1</td>\n",
       "      <td>0</td>\n",
       "      <td>1</td>\n",
       "      <td>1</td>\n",
       "      <td>1</td>\n",
       "      <td>1</td>\n",
       "      <td>middle</td>\n",
       "    </tr>\n",
       "    <tr>\n",
       "      <th>1</th>\n",
       "      <td>58</td>\n",
       "      <td>0</td>\n",
       "      <td>0</td>\n",
       "      <td>0</td>\n",
       "      <td>0</td>\n",
       "      <td>1</td>\n",
       "      <td>0</td>\n",
       "      <td>0</td>\n",
       "      <td>1</td>\n",
       "      <td>0</td>\n",
       "      <td>0</td>\n",
       "      <td>0</td>\n",
       "      <td>1</td>\n",
       "      <td>0</td>\n",
       "      <td>1</td>\n",
       "      <td>0</td>\n",
       "      <td>1</td>\n",
       "      <td>elderly</td>\n",
       "    </tr>\n",
       "    <tr>\n",
       "      <th>2</th>\n",
       "      <td>41</td>\n",
       "      <td>0</td>\n",
       "      <td>1</td>\n",
       "      <td>0</td>\n",
       "      <td>0</td>\n",
       "      <td>1</td>\n",
       "      <td>1</td>\n",
       "      <td>0</td>\n",
       "      <td>0</td>\n",
       "      <td>1</td>\n",
       "      <td>0</td>\n",
       "      <td>1</td>\n",
       "      <td>0</td>\n",
       "      <td>1</td>\n",
       "      <td>1</td>\n",
       "      <td>0</td>\n",
       "      <td>1</td>\n",
       "      <td>middle</td>\n",
       "    </tr>\n",
       "    <tr>\n",
       "      <th>3</th>\n",
       "      <td>45</td>\n",
       "      <td>0</td>\n",
       "      <td>0</td>\n",
       "      <td>0</td>\n",
       "      <td>1</td>\n",
       "      <td>1</td>\n",
       "      <td>1</td>\n",
       "      <td>1</td>\n",
       "      <td>0</td>\n",
       "      <td>1</td>\n",
       "      <td>0</td>\n",
       "      <td>1</td>\n",
       "      <td>0</td>\n",
       "      <td>0</td>\n",
       "      <td>0</td>\n",
       "      <td>0</td>\n",
       "      <td>1</td>\n",
       "      <td>middle</td>\n",
       "    </tr>\n",
       "    <tr>\n",
       "      <th>4</th>\n",
       "      <td>60</td>\n",
       "      <td>0</td>\n",
       "      <td>1</td>\n",
       "      <td>1</td>\n",
       "      <td>1</td>\n",
       "      <td>1</td>\n",
       "      <td>1</td>\n",
       "      <td>0</td>\n",
       "      <td>1</td>\n",
       "      <td>1</td>\n",
       "      <td>1</td>\n",
       "      <td>1</td>\n",
       "      <td>1</td>\n",
       "      <td>1</td>\n",
       "      <td>1</td>\n",
       "      <td>1</td>\n",
       "      <td>1</td>\n",
       "      <td>elderly</td>\n",
       "    </tr>\n",
       "  </tbody>\n",
       "</table>\n",
       "</div>"
      ],
      "text/plain": [
       "   Age  Gender  Polyuria  Polydipsia  sudden weight loss  weakness  \\\n",
       "0   40       0         0           1                   0         1   \n",
       "1   58       0         0           0                   0         1   \n",
       "2   41       0         1           0                   0         1   \n",
       "3   45       0         0           0                   1         1   \n",
       "4   60       0         1           1                   1         1   \n",
       "\n",
       "   Polyphagia  Genital thrush  visual blurring  Itching  Irritability  \\\n",
       "0           0               0                0        1             0   \n",
       "1           0               0                1        0             0   \n",
       "2           1               0                0        1             0   \n",
       "3           1               1                0        1             0   \n",
       "4           1               0                1        1             1   \n",
       "\n",
       "   delayed healing  partial paresis  muscle stiffness  Alopecia  Obesity  \\\n",
       "0                1                0                 1         1        1   \n",
       "1                0                1                 0         1        0   \n",
       "2                1                0                 1         1        0   \n",
       "3                1                0                 0         0        0   \n",
       "4                1                1                 1         1        1   \n",
       "\n",
       "   class      age  \n",
       "0      1   middle  \n",
       "1      1  elderly  \n",
       "2      1   middle  \n",
       "3      1   middle  \n",
       "4      1  elderly  "
      ]
     },
     "execution_count": 166,
     "metadata": {},
     "output_type": "execute_result"
    }
   ],
   "source": [
    "data.head()"
   ]
  },
  {
   "cell_type": "markdown",
   "metadata": {},
   "source": [
    "### Plotting histogram for age distribution"
   ]
  },
  {
   "cell_type": "code",
   "execution_count": 164,
   "metadata": {},
   "outputs": [
    {
     "data": {
      "text/plain": [
       "<matplotlib.legend.Legend at 0x7f81c3049048>"
      ]
     },
     "execution_count": 164,
     "metadata": {},
     "output_type": "execute_result"
    },
    {
     "data": {
      "image/png": "[encoded data removed]",
      "text/plain": [
       "<Figure size 432x288 with 1 Axes>"
      ]
     },
     "metadata": {
      "needs_background": "light"
     },
     "output_type": "display_data"
    }
   ],
   "source": [
    "x1 = data.loc[data['class']==0, 'Age']\n",
    "x2 = data.loc[data['class']==1, 'Age']\n",
    "\n",
    "plt.hist(x1, alpha=0.5, bins=40, color='g', density=True, label='negative')\n",
    "plt.hist(x2, alpha=0.5, bins=40, color='b', density=True, label='positive')\n",
    "\n",
    "plt.gca().set(title='Frequency Histogram of diabets by age', ylabel='Frequency')\n",
    "plt.legend()"
   ]
  },
  {
   "cell_type": "markdown",
   "metadata": {},
   "source": [
    "Binarize feature 'age' "
   ]
  },
  {
   "cell_type": "code",
   "execution_count": 165,
   "metadata": {},
   "outputs": [],
   "source": [
    "data['age'] = pd.cut(data['Age'], bins=[0, 35, 50, float('Inf')], labels=['young', 'middle', 'elderly'])\n",
    "one_hot = pd.get_dummies(data['age'])\n",
    "data = data.drop('age',axis = 1)\n",
    "data = data.drop('Age',axis = 1)\n",
    "data = data.join(one_hot)\n",
    "data.head()"
   ]
  },
  {
   "cell_type": "code",
   "execution_count": 170,
   "metadata": {},
   "outputs": [],
   "source": [
    "y = data['class']\n",
    "X = data.drop(['class'], axis=1)"
   ]
  },
  {
   "cell_type": "code",
   "execution_count": null,
   "metadata": {},
   "outputs": [],
   "source": [
    "X_train = X_train.values\n",
    "    y_train = y_train.values\n",
    "    X_test = X_test.values\n",
    "    y_test = y_test.values"
   ]
  },
  {
   "cell_type": "markdown",
   "metadata": {},
   "source": [
    "### Power, support and confidence functions"
   ]
  },
  {
   "cell_type": "code",
   "execution_count": 230,
   "metadata": {},
   "outputs": [],
   "source": [
    "def power(X_train, y_train, X_test, y_test, threshold):\n",
    "    \"\"\"\n",
    "    making decision depending on power of intersections: aggregating among all elements in train_positive and \n",
    "    train_negative and normalized on number of objects in each class\n",
    "    \"\"\"\n",
    "    accuracy = []\n",
    "    precision = []\n",
    "    recall = []\n",
    "    y_pred = []\n",
    "    n_attr = len(X_train[0])\n",
    "    X_train_positive = X_train[y_train == 1]\n",
    "    X_train_negative = X_train[y_train == 0]\n",
    "    for object_ in X_test:\n",
    "        power_positive = np.sum(object_ == X_train_positive) / n_attr / len(X_train_positive) \n",
    "        power_negative = np.sum(object_ == X_train_negative) / n_attr / len(X_train_negative) \n",
    "        y_pred.append(int(power_positive - power_negative > threshold))\n",
    "    \n",
    "    return accuracy_score(y_test, y_pred), precision_score(y_test, y_pred), recall_score(y_test, y_pred), confusion_matrix(y_test, y_pred)"
   ]
  },
  {
   "cell_type": "code",
   "execution_count": 228,
   "metadata": {},
   "outputs": [],
   "source": [
    "def support(X_train, y_train, X_test, y_test, threshold):\n",
    "    \"\"\"\n",
    "    making decision depending on the rate of support of intersections within each class\n",
    "    support of intersection by opposite class doesn't block assignment to initial class\n",
    "    \"\"\"\n",
    "    y_pred = []\n",
    "    X_train_positive = X_train[y_train == 1]\n",
    "    X_train_negative = X_train[y_train == 0]\n",
    "    for object_ in X_test:\n",
    "        support_positive = 0\n",
    "        support_negative = 0\n",
    "        for obj in X_train_positive:\n",
    "            intersection = object_ == obj\n",
    "            support_positive += (object_[intersection] == X_train_positive[:, intersection]).all(axis=1).sum()\n",
    "        for obj in X_train_negative:\n",
    "            intersection = object_ == obj\n",
    "            support_negative += (object_[intersection] == X_train_negative[:, intersection]).all(axis=1).sum()\n",
    "        support_positive = support_positive / len(X_train_positive)**2 # as we have a double loop on X_train_positive\n",
    "        support_negative = support_negative / len(X_train_negative)**2\n",
    "        y_pred.append(int(support_positive - support_negative > threshold))\n",
    "    \n",
    "    return accuracy_score(y_test, y_pred), precision_score(y_test, y_pred), recall_score(y_test, y_pred), confusion_matrix(y_test, y_pred)"
   ]
  },
  {
   "cell_type": "code",
   "execution_count": 229,
   "metadata": {},
   "outputs": [],
   "source": [
    "def confidence(X_train, y_train, X_test, y_test, threshold):\n",
    "    \"\"\"\n",
    "    making decision depending on the rate of confidence of intersections within each class\n",
    "    the smaller confidence_positive the better for predicting class as positive: if confidence_positive is smaller than \n",
    "    confidence_negative than we assing label 1\n",
    "    \"\"\"\n",
    "    y_pred = []\n",
    "    X_train_positive = X_train[y_train == 1]\n",
    "    X_train_negative = X_train[y_train == 0]\n",
    "    for object_ in X_test:\n",
    "        confidence_positive = 0\n",
    "        confidence_negative = 0\n",
    "        for obj in X_train_positive:\n",
    "            intersection = object_ == obj\n",
    "            confidence_positive += (object_[intersection] == X_train_negative[:, intersection]).all(axis=1).sum()\n",
    "        for obj in X_train_negative:\n",
    "            intersection = object_ == obj\n",
    "            confidence_negative += (object_[intersection] == X_train_positive[:, intersection]).all(axis=1).sum()\n",
    "        confidence_positive = confidence_positive / len(X_train_positive) / len(X_train_negative) # as we have a nested loop on X_train_positive, X_train_negative\n",
    "        confidence_negative = confidence_negative / len(X_train_negative) / len(X_train_positive)\n",
    "        y_pred.append(int(confidence_negative - confidence_positive > threshold))\n",
    "    \n",
    "    return accuracy_score(y_test, y_pred), precision_score(y_test, y_pred), recall_score(y_test, y_pred), confusion_matrix(y_test, y_pred)"
   ]
  },
  {
   "cell_type": "markdown",
   "metadata": {},
   "source": [
    "### Performing cross-validation for parameters tuning"
   ]
  },
  {
   "cell_type": "code",
   "execution_count": 185,
   "metadata": {},
   "outputs": [],
   "source": [
    "from sklearn.model_selection import KFold"
   ]
  },
  {
   "cell_type": "code",
   "execution_count": 214,
   "metadata": {},
   "outputs": [
    {
     "name": "stderr",
     "output_type": "stream",
     "text": [
      "100%|██████████| 16/16 [00:00<00:00, 20.53it/s]\n",
      "No handles with labels found to put in legend.\n"
     ]
    },
    {
     "data": {
      "text/plain": [
       "Text(0.5, 0, 'thresholds')"
      ]
     },
     "execution_count": 214,
     "metadata": {},
     "output_type": "execute_result"
    },
    {
     "data": {
      "image/png": "[encoded data removed]",
      "text/plain": [
       "<Figure size 432x288 with 1 Axes>"
      ]
     },
     "metadata": {
      "needs_background": "light"
     },
     "output_type": "display_data"
    }
   ],
   "source": [
    "thresholds = np.arange(-0.2, 0.2, 0.025)\n",
    "accuracy = []\n",
    "mean_accuracy = []\n",
    "for threshold in tqdm(thresholds):\n",
    "    kf = KFold(n_splits=5, shuffle=True, random_state=500)\n",
    "    for train, test in kf.split(X):\n",
    "        X_train, X_test, y_train, y_test = X.loc[train, :], X.loc[test, :], y[train], y[test]\n",
    "        accuracy.append(power(X_train.values, y_train.values, X_test.values, y_test.values, threshold)[0])\n",
    "    mean_accuracy.append(np.mean(accuracy))\n",
    "    \n",
    "    \n",
    "plt.plot(thresholds, mean_accuracy)\n",
    "plt.legend()\n",
    "plt.title('accuracy of classification using power rule')\n",
    "plt.xlabel('thresholds')"
   ]
  },
  {
   "cell_type": "code",
   "execution_count": 203,
   "metadata": {},
   "outputs": [
    {
     "name": "stderr",
     "output_type": "stream",
     "text": [
      "100%|██████████| 10/10 [00:49<00:00,  4.92s/it]\n",
      "No handles with labels found to put in legend.\n"
     ]
    },
    {
     "data": {
      "text/plain": [
       "Text(0.5, 0, 'thresholds')"
      ]
     },
     "execution_count": 203,
     "metadata": {},
     "output_type": "execute_result"
    },
    {
     "data": {
      "image/png": "[encoded data removed]",
      "text/plain": [
       "<Figure size 432x288 with 1 Axes>"
      ]
     },
     "metadata": {
      "needs_background": "light"
     },
     "output_type": "display_data"
    }
   ],
   "source": [
    "thresholds = np.arange(-0.25, 0.25, 0.05)\n",
    "accuracy = []\n",
    "mean_accuracy = []\n",
    "for threshold in tqdm(thresholds):\n",
    "    kf = KFold(n_splits=5, shuffle=True, random_state=500)\n",
    "    for train, test in kf.split(X):\n",
    "        X_train, X_test, y_train, y_test = X.loc[train, :], X.loc[test, :], y[train], y[test]\n",
    "        accuracy.append(support(X_train.values, y_train.values, X_test.values, y_test.values, threshold)[0])\n",
    "    mean_accuracy.append(np.mean(accuracy))\n",
    "    \n",
    "plt.plot(thresholds, mean_accuracy)\n",
    "plt.legend()\n",
    "plt.title('accuracy of classification using support rule')\n",
    "plt.xlabel('thresholds')"
   ]
  },
  {
   "cell_type": "code",
   "execution_count": 210,
   "metadata": {},
   "outputs": [
    {
     "name": "stderr",
     "output_type": "stream",
     "text": [
      "100%|██████████| 20/20 [01:48<00:00,  5.42s/it]\n",
      "No handles with labels found to put in legend.\n"
     ]
    },
    {
     "data": {
      "text/plain": [
       "Text(0.5, 0, 'thresholds')"
      ]
     },
     "execution_count": 210,
     "metadata": {},
     "output_type": "execute_result"
    },
    {
     "data": {
      "image/png": "[encoded data removed]",
      "text/plain": [
       "<Figure size 432x288 with 1 Axes>"
      ]
     },
     "metadata": {
      "needs_background": "light"
     },
     "output_type": "display_data"
    }
   ],
   "source": [
    "thresholds = np.arange(-0.1, 0.1, 0.01)\n",
    "accuracy = []\n",
    "mean_accuracy = []\n",
    "for threshold in tqdm(thresholds):\n",
    "    kf = KFold(n_splits=5, shuffle=True, random_state=500)\n",
    "    for train, test in kf.split(X):\n",
    "        X_train, X_test, y_train, y_test = X.loc[train, :], X.loc[test, :], y[train], y[test]\n",
    "        accuracy.append(confidence(X_train.values, y_train.values, X_test.values, y_test.values, threshold)[0])\n",
    "    mean_accuracy.append(np.mean(accuracy))\n",
    "    \n",
    "plt.plot(thresholds, mean_accuracy)\n",
    "plt.legend()\n",
    "plt.title('accuracy of classification using confidence rule')\n",
    "plt.xlabel('thresholds')"
   ]
  },
  {
   "cell_type": "markdown",
   "metadata": {},
   "source": [
    "### Performing cross-validation with best chosen parameters to estimate quality of classification"
   ]
  },
  {
   "cell_type": "code",
   "execution_count": 231,
   "metadata": {},
   "outputs": [
    {
     "name": "stdout",
     "output_type": "stream",
     "text": [
      "Accuracy 0.8461538461538461\n",
      "Precision 0.9479895594601478\n",
      "Recall 0.7923921577529102\n",
      "tn, fp, fn, tp [40  3 13 48]\n"
     ]
    }
   ],
   "source": [
    "kf = KFold(n_splits=5, shuffle=True, random_state=400)\n",
    "accuracy, precision, recall = [], [], []\n",
    "for train, test in kf.split(X):\n",
    "    X_train, X_test, y_train, y_test = X.loc[train, :], X.loc[test, :], y[train], y[test]\n",
    "    accuracy.append(power(X_train.values, y_train.values, X_test.values, y_test.values, -0.05)[0])\n",
    "    precision.append(power(X_train.values, y_train.values, X_test.values, y_test.values, -0.05)[1])\n",
    "    recall.append(power(X_train.values, y_train.values, X_test.values, y_test.values, -0.05)[2])\n",
    "print(\"Accuracy\", np.mean(accuracy))\n",
    "print(\"Precision\", np.mean(precision))\n",
    "print(\"Recall\", np.mean(recall))\n",
    "print(\"tn, fp, fn, tp\", power(X_train.values, y_train.values, X_test.values, y_test.values, -0.05)[3].ravel())"
   ]
  },
  {
   "cell_type": "code",
   "execution_count": 237,
   "metadata": {},
   "outputs": [
    {
     "name": "stdout",
     "output_type": "stream",
     "text": [
      "Accuracy 0.8615384615384615\n",
      "Precision 0.8738519518926902\n",
      "Recall 0.9056170030347193\n",
      "tn, fp, fn, tp [43  0 36 25]\n"
     ]
    }
   ],
   "source": [
    "kf = KFold(n_splits=5, shuffle=True, random_state=400)\n",
    "accuracy, precision, recall = [], [], []\n",
    "for train, test in kf.split(X):\n",
    "    X_train, X_test, y_train, y_test = X.loc[train, :], X.loc[test, :], y[train], y[test]\n",
    "    accuracy.append(support(X_train.values, y_train.values, X_test.values, y_test.values, -0.1)[0])\n",
    "    precision.append(support(X_train.values, y_train.values, X_test.values, y_test.values, -0.1)[1])\n",
    "    recall.append(support(X_train.values, y_train.values, X_test.values, y_test.values, -0.1)[2])\n",
    "print(\"Accuracy\", np.mean(accuracy))\n",
    "print(\"Precision\", np.mean(precision))\n",
    "print(\"Recall\", np.mean(recall))\n",
    "print(\"tn, fp, fn, tp\", support(X_train.values, y_train.values, X_test.values, y_test.values, -0.05)[3].ravel())"
   ]
  },
  {
   "cell_type": "code",
   "execution_count": 236,
   "metadata": {},
   "outputs": [
    {
     "name": "stdout",
     "output_type": "stream",
     "text": [
      "Accuracy 0.9384615384615385\n",
      "Precision 0.9965517241379309\n",
      "Recall 0.9028017804222361\n",
      "tn, fp, fn, tp [28 15  3 58]\n"
     ]
    }
   ],
   "source": [
    "kf = KFold(n_splits=5, shuffle=True, random_state=400)\n",
    "accuracy, precision, recall = [], [], []\n",
    "for train, test in kf.split(X):\n",
    "    X_train, X_test, y_train, y_test = X.loc[train, :], X.loc[test, :], y[train], y[test]\n",
    "    accuracy.append(confidence(X_train.values, y_train.values, X_test.values, y_test.values, -0.015)[0])\n",
    "    precision.append(confidence(X_train.values, y_train.values, X_test.values, y_test.values, -0.015)[1])\n",
    "    recall.append(confidence(X_train.values, y_train.values, X_test.values, y_test.values, -0.015)[2])\n",
    "print(\"Accuracy\", np.mean(accuracy))\n",
    "print(\"Precision\", np.mean(precision))\n",
    "print(\"Recall\", np.mean(recall))\n",
    "print(\"tn, fp, fn, tp\", confidence(X_train.values, y_train.values, X_test.values, y_test.values, -0.05)[3].ravel())"
   ]
  },
  {
   "cell_type": "markdown",
   "metadata": {},
   "source": [
    "Comparing to some other methods - SVM"
   ]
  },
  {
   "cell_type": "code",
   "execution_count": 238,
   "metadata": {},
   "outputs": [],
   "source": [
    "from sklearn import svm"
   ]
  },
  {
   "cell_type": "code",
   "execution_count": 239,
   "metadata": {},
   "outputs": [
    {
     "name": "stdout",
     "output_type": "stream",
     "text": [
      "Accuracy 0.9634615384615385\n",
      "Precision 0.9788742385194216\n",
      "Recall 0.9620030896939307\n",
      "tn, fp, fn, tp [41  2  2 59]\n"
     ]
    }
   ],
   "source": [
    "kf = KFold(n_splits=5, shuffle=True, random_state=400)\n",
    "accuracy, precision, recall = [], [], []\n",
    "y_pred = []\n",
    "for train, test in kf.split(X):\n",
    "    X_train, X_test, y_train, y_test = X.loc[train, :], X.loc[test, :], y[train], y[test]\n",
    "    clf = svm.SVC()\n",
    "    clf.fit(X_train, y_train)\n",
    "    y_pred = clf.predict(X_test)\n",
    "    recall_score(y_test, y_pred), confusion_matrix(y_test, y_pred)\n",
    "    accuracy.append(accuracy_score(y_test, y_pred))\n",
    "    precision.append(precision_score(y_test, y_pred))\n",
    "    recall.append(recall_score(y_test, y_pred))\n",
    "print(\"Accuracy\", np.mean(accuracy))\n",
    "print(\"Precision\", np.mean(precision))\n",
    "print(\"Recall\", np.mean(recall))\n",
    "print(\"tn, fp, fn, tp\", confusion_matrix(y_test, y_pred).ravel())"
   ]
  },
  {
   "cell_type": "code",
   "execution_count": null,
   "metadata": {},
   "outputs": [],
   "source": []
  }
 ],
 "metadata": {
  "kernelspec": {
   "display_name": "Python 3",
   "language": "python",
   "name": "python3"
  },
  "language_info": {
   "codemirror_mode": {
    "name": "ipython",
    "version": 3
   },
   "file_extension": ".py",
   "mimetype": "text/x-python",
   "name": "python",
   "nbconvert_exporter": "python",
   "pygments_lexer": "ipython3",
   "version": "3.7.1"
  }
 },
 "nbformat": 4,
 "nbformat_minor": 4
}
